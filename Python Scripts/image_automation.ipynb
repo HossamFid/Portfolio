{
 "cells": [
  {
   "cell_type": "code",
   "execution_count": 1,
   "id": "4fda6d1e",
   "metadata": {},
   "outputs": [],
   "source": [
    "import os \n",
    "from PIL import Image\n",
    "import pandas as pd \n",
    "import math\n",
    "#pip install exifread gpsphoto\n",
    "#from GPSPhoto import gpsphoto"
   ]
  },
  {
   "cell_type": "code",
   "execution_count": 21,
   "id": "20e94146",
   "metadata": {},
   "outputs": [
    {
     "data": {
      "text/plain": [
       "'D:\\\\Work\\\\image_compression'"
      ]
     },
     "execution_count": 21,
     "metadata": {},
     "output_type": "execute_result"
    }
   ],
   "source": [
    "os.getcwd()"
   ]
  },
  {
   "cell_type": "code",
   "execution_count": 12,
   "id": "3134bca3",
   "metadata": {},
   "outputs": [],
   "source": [
    "# images folder path \n",
    "images_path = os.getcwd()+\"\\\\Fanos Products images\"\n",
    "# list of all images \n",
    "files = os.listdir(r\"D:\\Work\\image_compression\\Fanos Products images\")\n",
    "# filter out images (exclude txt,webp files)\n",
    "extensions = list()\n",
    "for file in files:\n",
    "    exten = file.split(\".\")[1]\n",
    "    extensions.append(exten)"
   ]
  },
  {
   "cell_type": "code",
   "execution_count": 17,
   "id": "c9e08045",
   "metadata": {},
   "outputs": [
    {
     "data": {
      "text/plain": [
       "jpg      8079\n",
       "txt      1442\n",
       "JPG       387\n",
       "png        99\n",
       "jpeg        7\n",
       "jfif        4\n",
       "webp        2\n",
       "docx        1\n",
       "            1\n",
       "48174       1\n",
       "dtype: int64"
      ]
     },
     "execution_count": 17,
     "metadata": {},
     "output_type": "execute_result"
    }
   ],
   "source": [
    "#10023 - 8574\n",
    "pd.Series(extensions).value_counts()"
   ]
  },
  {
   "cell_type": "code",
   "execution_count": 22,
   "id": "28c9ce4e",
   "metadata": {},
   "outputs": [],
   "source": [
    "len(extensions)\n",
    "type(extensions[0])\n",
    "images = [image for image in files if image.endswith(('jpg', 'png', 'JPG', 'jpeg'))]\n",
    "#print(len(images))\n",
    "#print(images[:5])"
   ]
  },
  {
   "cell_type": "code",
   "execution_count": 19,
   "id": "f35ee7b7",
   "metadata": {},
   "outputs": [],
   "source": [
    "# convert to jpg \n",
    "image_name = \"36257 (1)\"\n",
    "im = Image.open(image_name+'.png').convert(\"RGB\")\n",
    "im.save(image_name+\".jpg\",\"jpeg\")"
   ]
  },
  {
   "cell_type": "code",
   "execution_count": 14,
   "id": "86889fa3",
   "metadata": {},
   "outputs": [],
   "source": [
    "# list of png images \n",
    "# read the images \n",
    "# convert the images To RGB \n",
    "# save the image \n",
    "def convert_png_to_jpg(directory = False):\n",
    "    if directory:\n",
    "        os.chdir(directory)\n",
    "    \n",
    "    files = os.listdir(r\"C:\\Users\\LoveCode\\Desktop\\image_compression\\Fanos Products images\")\n",
    "    \n",
    "    png_images = [image for image in files if image.endswith(('png'))]\n",
    "    #len(png_images)\n",
    "    \n",
    "    for file in png_images :\n",
    "        path = r'C:\\Users\\LoveCode\\Desktop\\image_compression\\Fanos Products images'\n",
    "        image = Image.open(os.path.join(path, file)).convert(\"RGB\")\n",
    "        print(image)\n",
    "        #image = Image.open(file).convert(\"RGB\")\n",
    "        #image_name = os.path.textsplit(image)\n",
    "        image_name = file.split(\".\")[0]\n",
    "        print(image_name)\n",
    "        image.save(image_name+\".jpg\",\"jpeg\")"
   ]
  },
  {
   "cell_type": "code",
   "execution_count": 15,
   "id": "b82aa53f",
   "metadata": {},
   "outputs": [
    {
     "ename": "FileNotFoundError",
     "evalue": "[WinError 3] The system cannot find the path specified: 'C:\\\\Users\\\\LoveCode\\\\Desktop\\\\image_compression\\\\Fanos Products images'",
     "output_type": "error",
     "traceback": [
      "\u001b[1;31m---------------------------------------------------------------------------\u001b[0m",
      "\u001b[1;31mFileNotFoundError\u001b[0m                         Traceback (most recent call last)",
      "Cell \u001b[1;32mIn[15], line 2\u001b[0m\n\u001b[0;32m      1\u001b[0m subdirectory_path \u001b[38;5;241m=\u001b[39m \u001b[38;5;124mr\u001b[39m\u001b[38;5;124m'\u001b[39m\u001b[38;5;124mD:\u001b[39m\u001b[38;5;124m\\\u001b[39m\u001b[38;5;124mWork\u001b[39m\u001b[38;5;124m\\\u001b[39m\u001b[38;5;124mimage_compression\u001b[39m\u001b[38;5;124m\\\u001b[39m\u001b[38;5;124mpng_images\u001b[39m\u001b[38;5;124m'\u001b[39m\n\u001b[1;32m----> 2\u001b[0m \u001b[43mconvert_png_to_jpg\u001b[49m\u001b[43m(\u001b[49m\u001b[43mdirectory\u001b[49m\u001b[38;5;241;43m=\u001b[39;49m\u001b[43msubdirectory_path\u001b[49m\u001b[43m)\u001b[49m\n",
      "Cell \u001b[1;32mIn[14], line 9\u001b[0m, in \u001b[0;36mconvert_png_to_jpg\u001b[1;34m(directory)\u001b[0m\n\u001b[0;32m      6\u001b[0m \u001b[38;5;28;01mif\u001b[39;00m directory:\n\u001b[0;32m      7\u001b[0m     os\u001b[38;5;241m.\u001b[39mchdir(directory)\n\u001b[1;32m----> 9\u001b[0m files \u001b[38;5;241m=\u001b[39m \u001b[43mos\u001b[49m\u001b[38;5;241;43m.\u001b[39;49m\u001b[43mlistdir\u001b[49m\u001b[43m(\u001b[49m\u001b[38;5;124;43mr\u001b[39;49m\u001b[38;5;124;43m\"\u001b[39;49m\u001b[38;5;124;43mC:\u001b[39;49m\u001b[38;5;124;43m\\\u001b[39;49m\u001b[38;5;124;43mUsers\u001b[39;49m\u001b[38;5;124;43m\\\u001b[39;49m\u001b[38;5;124;43mLoveCode\u001b[39;49m\u001b[38;5;124;43m\\\u001b[39;49m\u001b[38;5;124;43mDesktop\u001b[39;49m\u001b[38;5;124;43m\\\u001b[39;49m\u001b[38;5;124;43mimage_compression\u001b[39;49m\u001b[38;5;124;43m\\\u001b[39;49m\u001b[38;5;124;43mFanos Products images\u001b[39;49m\u001b[38;5;124;43m\"\u001b[39;49m\u001b[43m)\u001b[49m\n\u001b[0;32m     11\u001b[0m png_images \u001b[38;5;241m=\u001b[39m [image \u001b[38;5;28;01mfor\u001b[39;00m image \u001b[38;5;129;01min\u001b[39;00m files \u001b[38;5;28;01mif\u001b[39;00m image\u001b[38;5;241m.\u001b[39mendswith((\u001b[38;5;124m'\u001b[39m\u001b[38;5;124mpng\u001b[39m\u001b[38;5;124m'\u001b[39m))]\n\u001b[0;32m     12\u001b[0m \u001b[38;5;66;03m#len(png_images)\u001b[39;00m\n",
      "\u001b[1;31mFileNotFoundError\u001b[0m: [WinError 3] The system cannot find the path specified: 'C:\\\\Users\\\\LoveCode\\\\Desktop\\\\image_compression\\\\Fanos Products images'"
     ]
    }
   ],
   "source": [
    "subdirectory_path = r'D:\\Work\\image_compression\\png_images'\n",
    "convert_png_to_jpg(directory=subdirectory_path)"
   ]
  },
  {
   "cell_type": "code",
   "execution_count": 5,
   "id": "a94db9f8",
   "metadata": {},
   "outputs": [],
   "source": [
    "def compress_images(directory=False, quality=30):\n",
    "    # If there is a directory then change into it, else perform the next operations inside of the \n",
    "    # current working directory:\n",
    "    if directory:\n",
    "        os.chdir(directory)\n",
    "        \n",
    "    # Extract all of the .png and .jpeg files:\n",
    "    files = os.listdir(r\"C:\\Users\\DA\\Desktop\\التصاميم-20230715T184400Z-001\\التصاميم\")\n",
    "    \n",
    "    # Extract all of the images:\n",
    "    images = [file for file in files if file.endswith(('jpg', 'png'))]\n",
    "    \n",
    "    # Loop over every image:\n",
    "    for image in images:\n",
    "        \n",
    "        print(image)\n",
    "\n",
    "        path = r'C:\\Users\\DA\\Desktop\\التصاميم-20230715T184400Z-001\\التصاميم'\n",
    "        img = Image.open(os.path.join(path, image))\n",
    "        # Open every image:\n",
    "        #img = Image.open(image)\n",
    "        \n",
    "        # Compress every image and save it with a new name:\n",
    "        #img.save(\"Compressed_and_resized_with_function_\"+image, optimize=True, quality=quality)\n",
    "        img.save(image, optimize=True, quality=quality)"
   ]
  },
  {
   "cell_type": "code",
   "execution_count": 8,
   "id": "8ce8ab11",
   "metadata": {},
   "outputs": [
    {
     "name": "stdout",
     "output_type": "stream",
     "text": [
      "جواهر2.jpg\n"
     ]
    }
   ],
   "source": [
    "subdirectory_path = r'C:\\Users\\DA\\Desktop\\images_finish'\n",
    "compress_images(directory=subdirectory_path, quality=60)"
   ]
  },
  {
   "cell_type": "code",
   "execution_count": 6,
   "id": "d7522a2e",
   "metadata": {},
   "outputs": [],
   "source": [
    "# advanced version of compress images function based on image size \n",
    "def compress_images_v2(directory=False, quality=50):\n",
    "    # If there is a directory then change into it, else perform the next operations inside of the \n",
    "    # current working directory:\n",
    "    if directory:\n",
    "        os.chdir(directory)\n",
    "        \n",
    "    # Extract all of the .png and .jpeg files:\n",
    "    files = os.listdir(r\"C:\\Users\\DA\\Desktop\\التصاميم-20230715T184400Z-001\\التصاميم\")\n",
    "    \n",
    "    # Extract all of the images:\n",
    "    images = [file for file in files if file.endswith(('jpg', 'png'))]\n",
    "    \n",
    "    # Loop over every image:\n",
    "    for image in images:\n",
    "        \n",
    "        print(image)\n",
    "\n",
    "        path = r'C:\\Users\\DA\\Desktop\\التصاميم-20230715T184400Z-001\\التصاميم'\n",
    "        img = Image.open(os.path.join(path, image))\n",
    "        img_size = os.path.getsize(os.path.join(path, image)) / (1024*1024)\n",
    "        # Open every image:\n",
    "        #img = Image.open(image)\n",
    "        if img_size == 0:\n",
    "            return \"0B\"\n",
    "        size_name = (\"B\", \"KB\", \"MB\", \"GB\", \"TB\", \"PB\", \"EB\", \"ZB\", \"YB\")\n",
    "        i = int(math.floor(math.log(img_size, 1024)))\n",
    "        p = math.pow(1024, i)\n",
    "        s = round(img_size / p, 2)\n",
    "        result = s\n",
    "\n",
    "        print(result)\n",
    "        if result >= 250 :\n",
    "            quality = 20\n",
    "            print(quality)\n",
    "        elif result >= 500  :\n",
    "            quality = 30\n",
    "            print(quality)\n",
    "        elif result > 800 :\n",
    "            quality = 40\n",
    "            print(quality)\n",
    "        elif result > 1000 :\n",
    "            quality = 50\n",
    "            print(quality)\n",
    "        \n",
    "        \n",
    "        # Compress every image and save it with a new name:\n",
    "        img.save(image, optimize=True, quality=quality)"
   ]
  },
  {
   "cell_type": "code",
   "execution_count": null,
   "id": "172234e8",
   "metadata": {},
   "outputs": [],
   "source": [
    "compress_images_v2(r\"C:\\Users\\DA\\Desktop\\images_finish\")"
   ]
  },
  {
   "cell_type": "code",
   "execution_count": 3,
   "id": "03a733c2",
   "metadata": {},
   "outputs": [],
   "source": [
    "photo = gpsphoto.GPSPhoto(r\"D:\\Work\\image_compression\\3070 (1).jpg\")\n",
    "info = gpsphoto.GPSInfo((24.774265, 46.738586))\n",
    "# Modify GPS Data\n",
    "photo.modGPSData(info, r'D:\\Work\\image_compression\\new_photo.jpg')\n"
   ]
  },
  {
   "cell_type": "code",
   "execution_count": 14,
   "id": "487ae502",
   "metadata": {},
   "outputs": [
    {
     "name": "stdout",
     "output_type": "stream",
     "text": [
      "size 4 MB\n"
     ]
    }
   ],
   "source": [
    "# images buckets to enhance the quality of the images by compressing with different levels With respect to the image size\n",
    "# under 1 MB\n",
    "# from 1 MB to 3 MB\n",
    "# from MB to 6 \n",
    "# above 6 MB \n",
    "\n",
    "\n",
    "import os\n",
    "print((os.stat('4849 (1).jpg').st_size) / 1024 / 1024)\n",
    "\n",
    "import os\n",
    "image_size = os.path.getsize('4849 (1).jpg') / 1024 / 1024\n",
    "if image_size < 4 :\n",
    "    print(\"size 4 MB\")"
   ]
  },
  {
   "cell_type": "code",
   "execution_count": 3,
   "id": "e1deeaaf",
   "metadata": {},
   "outputs": [
    {
     "name": "stdout",
     "output_type": "stream",
     "text": [
      "(1108, 428)\n",
      "(1108, 428)\n",
      "(400, 400)\n"
     ]
    }
   ],
   "source": [
    "#image resize dimensions of 1000x1000\n",
    "from PIL import Image\n",
    "image = Image.open('white-friday-banner.jpg')\n",
    "print(image.size)\n",
    "new_image = image.resize((400, 400))\n",
    "new_image.save('image_400.jpg')\n",
    "\n",
    "print(image.size) # Output: (1108, 428)\n",
    "print(new_image.size) # Output: (400, 400)"
   ]
  },
  {
   "cell_type": "code",
   "execution_count": null,
   "id": "072a7b56",
   "metadata": {},
   "outputs": [],
   "source": [
    "import os\n",
    "image_size = os.path.getsize(r\"C:\\Users\\LoveCode\\Desktop\\image compress\\8.38 MB\\4867 (4).jpg\") / (1024*1024)\n",
    "import math\n",
    "\n",
    "def convert_size(size_bytes):\n",
    "   if size_bytes == 0:\n",
    "       return \"0B\"\n",
    "   size_name = (\"B\", \"KB\", \"MB\", \"GB\", \"TB\", \"PB\", \"EB\", \"ZB\", \"YB\")\n",
    "   i = int(math.floor(math.log(size_bytes, 1024)))\n",
    "   p = math.pow(1024, i)\n",
    "   s = round(size_bytes / p, 2)\n",
    "   result = s #\"%s %s\" % (s, size_name[i])\n",
    "   return result"
   ]
  },
  {
   "cell_type": "code",
   "execution_count": 8,
   "id": "37acd8ea",
   "metadata": {},
   "outputs": [],
   "source": [
    "from PIL import Image\n",
    "\n",
    "def compress_image_with_filter(input_path, output_path, quality=85, filter_type=Image.LANCZOS):\n",
    "    # Open the image\n",
    "    image = Image.open(input_path)\n",
    "\n",
    "    # Set the compression options based on the image format\n",
    "    if image.format == 'JPEG':\n",
    "        save_options = {\n",
    "            'quality': quality,\n",
    "            'optimize': True,\n",
    "            'subsampling': '4:4:4'\n",
    "        }\n",
    "    elif image.format == 'PNG':\n",
    "        save_options = {\n",
    "            'optimize': True,\n",
    "            'compression': 'png',\n",
    "            'pngquant': True\n",
    "        }\n",
    "\n",
    "    # Compress the image using the LANCZOS filter and save it\n",
    "    image.save(output_path, format=image.format, **save_options)\n",
    "\n",
    "# Usage example\n",
    "input_path = r'C:\\Users\\DA\\Desktop\\التصاميم-20230715T184400Z-001\\التصاميم\\1.png'\n",
    "output_path = r'C:\\Users\\DA\\Desktop\\images_finish\\compressed_image.png'\n",
    "quality = 70  # Specify the desired quality value (0-100)\n",
    "filter_type = Image.LANCZOS\n",
    "\n",
    "compress_image_with_filter(input_path, output_path, quality, filter_type)\n"
   ]
  },
  {
   "cell_type": "code",
   "execution_count": 14,
   "id": "e68404fb",
   "metadata": {},
   "outputs": [],
   "source": [
    "from PIL import Image\n",
    "from resizeimage import resizeimage\n",
    "\n",
    "def compress_image_with_library(input_path, output_path, quality=85):\n",
    "    # Open the image\n",
    "    with open(input_path, 'r+b') as f:\n",
    "        with Image.open(f) as image:\n",
    "            # Convert the image to RGB mode if it's a PNG image with transparency\n",
    "            if image.mode in ('RGBA', 'LA') or (image.mode == 'P' and 'transparency' in image.info):\n",
    "                image = image.convert('RGB')\n",
    "\n",
    "            # Compress the image\n",
    "            image = resizeimage.resize_contain(image, [image.width, image.height])\n",
    "\n",
    "            # Save the compressed image with the specified quality\n",
    "            image.save(output_path, 'PNG', optimize=True, quality=quality)\n",
    "\n",
    "# Usage example\n",
    "input_path = r'C:\\Users\\DA\\Desktop\\التصاميم-20230715T184400Z-001\\التصاميم\\1.png'\n",
    "output_path = r'C:\\Users\\DA\\Desktop\\images_finish\\compressed_image.png'\n",
    "quality = 70  # Specify the desired quality value (0-100)\n",
    "\n",
    "compress_image_with_library(input_path, output_path, quality)"
   ]
  },
  {
   "cell_type": "code",
   "execution_count": 19,
   "id": "7b1a68f3",
   "metadata": {},
   "outputs": [
    {
     "name": "stderr",
     "output_type": "stream",
     "text": [
      "C:\\Users\\DA\\AppData\\Local\\Temp\\ipykernel_7552\\2354775910.py:6: DeprecationWarning: Starting with ImageIO v3 the behavior of this function will switch to that of iio.v3.imread. To keep the current behavior (and make this warning disappear) use `import imageio.v2 as imageio` or call `imageio.v2.imread` directly.\n",
      "  image = imageio.imread(input_path)\n"
     ]
    }
   ],
   "source": [
    "import imageio\n",
    "import numpy as np\n",
    "\n",
    "def compress_image(input_path, output_path, quality=85):\n",
    "    # Load the image\n",
    "    image = imageio.imread(input_path)\n",
    "\n",
    "    # Check if the image is RGB with an alpha channel (RGBA)\n",
    "    if image.shape[2] == 4:\n",
    "        # Convert RGBA to RGB by removing the alpha channel\n",
    "        image = image[:, :, :3]\n",
    "\n",
    "    # Compress the image by reducing the quality\n",
    "    imageio.imwrite(output_path, image, format='png', optimize=True, quality=quality)\n",
    "\n",
    "# Usage example\n",
    "input_path = r'C:\\Users\\DA\\Desktop\\التصاميم-20230715T184400Z-001\\التصاميم\\1.png'\n",
    "output_path = r'C:\\Users\\DA\\Desktop\\images_finish\\compressed_image.png'\n",
    "quality = 95  # Specify the desired quality value (0-100)\n",
    "\n",
    "compress_image(input_path, output_path, quality)"
   ]
  },
  {
   "cell_type": "code",
   "execution_count": null,
   "id": "8f1f5a24",
   "metadata": {},
   "outputs": [],
   "source": []
  }
 ],
 "metadata": {
  "kernelspec": {
   "display_name": "Python 3 (ipykernel)",
   "language": "python",
   "name": "python3"
  },
  "language_info": {
   "codemirror_mode": {
    "name": "ipython",
    "version": 3
   },
   "file_extension": ".py",
   "mimetype": "text/x-python",
   "name": "python",
   "nbconvert_exporter": "python",
   "pygments_lexer": "ipython3",
   "version": "3.12.0"
  }
 },
 "nbformat": 4,
 "nbformat_minor": 5
}
