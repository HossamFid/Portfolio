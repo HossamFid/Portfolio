{
 "cells": [
  {
   "cell_type": "code",
   "execution_count": 1,
   "metadata": {},
   "outputs": [],
   "source": [
    "from selenium import webdriver\n",
    "#from getpass import getpass\n",
    "from selenium.webdriver.common.keys import Keys\n",
    "from selenium.webdriver.common.by import By\n",
    "from selenium.webdriver.chrome.options import Options\n",
    "import time\n",
    "import pandas as pd "
   ]
  },
  {
   "cell_type": "code",
   "execution_count": 2,
   "metadata": {},
   "outputs": [
    {
     "name": "stderr",
     "output_type": "stream",
     "text": [
      "C:\\Users\\LoveCode\\AppData\\Local\\Temp/ipykernel_16108/896558894.py:7: DeprecationWarning: find_element_by_* commands are deprecated. Please use find_element() instead\n",
      "  username_textbox = driver.find_element_by_name(\"email\")\n",
      "C:\\Users\\LoveCode\\AppData\\Local\\Temp/ipykernel_16108/896558894.py:10: DeprecationWarning: find_element_by_* commands are deprecated. Please use find_element() instead\n",
      "  password_textbox = driver.find_element_by_name(\"password\")\n",
      "C:\\Users\\LoveCode\\AppData\\Local\\Temp/ipykernel_16108/896558894.py:13: DeprecationWarning: find_element_by_* commands are deprecated. Please use find_element() instead\n",
      "  login_button = driver.find_element_by_id(\"submit_btn\")\n"
     ]
    }
   ],
   "source": [
    "username = \"***********\"\n",
    "password = \"*************\"\n",
    "\n",
    "driver = webdriver.Chrome()\n",
    "driver.get(\"https://s.salla.sa/login\")\n",
    "\n",
    "username_textbox = driver.find_element_by_name(\"email\") \n",
    "username_textbox.send_keys(username)\n",
    "\n",
    "password_textbox = driver.find_element_by_name(\"password\")\n",
    "password_textbox.send_keys(password)\n",
    "\n",
    "login_button = driver.find_element_by_id(\"submit_btn\")\n",
    "login_button.submit()\n"
   ]
  },
  {
   "cell_type": "code",
   "execution_count": 24,
   "metadata": {},
   "outputs": [
    {
     "name": "stdout",
     "output_type": "stream",
     "text": [
      "+966550569028\n",
      "hnanalaslmy@gmail.com\n",
      "hnanalaslmy@gmail.com\n",
      "<class 'NoneType'>\n"
     ]
    },
    {
     "name": "stderr",
     "output_type": "stream",
     "text": [
      "C:\\Users\\LoveCode\\AppData\\Local\\Temp/ipykernel_16108/4098533563.py:5: DeprecationWarning: find_element_by_* commands are deprecated. Please use find_element() instead\n",
      "  phone = driver.find_element_by_class_name(\"text-plain\")\n",
      "C:\\Users\\LoveCode\\AppData\\Local\\Temp/ipykernel_16108/4098533563.py:8: DeprecationWarning: find_element_by_* commands are deprecated. Please use find_element() instead\n",
      "  email = driver.find_element_by_id(\"modal_customer_email\")\n"
     ]
    }
   ],
   "source": [
    "# test 1 with whole customer info\n",
    "test_link = \"https://s.salla.sa/customers/qZKYgA04nQ8N6MNAkQlWbmw5jOJvxGDr\"\n",
    "driver.get(test_link)\n",
    "\n",
    "phone = driver.find_element_by_class_name(\"text-plain\")\n",
    "print(phone.text)\n",
    "\n",
    "email = driver.find_element_by_id(\"modal_customer_email\")\n",
    "print(email.get_attribute('value'))\n",
    "#print(type(print(email.get_attribute('value'))))"
   ]
  },
  {
   "cell_type": "code",
   "execution_count": 13,
   "metadata": {},
   "outputs": [
    {
     "name": "stdout",
     "output_type": "stream",
     "text": [
      "+966541795201\n",
      "Not Found\n"
     ]
    },
    {
     "name": "stderr",
     "output_type": "stream",
     "text": [
      "C:\\Users\\LoveCode\\AppData\\Local\\Temp/ipykernel_16108/1675863523.py:4: DeprecationWarning: find_element_by_* commands are deprecated. Please use find_element() instead\n",
      "  phone = driver.find_element_by_class_name(\"text-plain\")\n",
      "C:\\Users\\LoveCode\\AppData\\Local\\Temp/ipykernel_16108/1675863523.py:7: DeprecationWarning: find_element_by_* commands are deprecated. Please use find_element() instead\n",
      "  email = driver.find_element_by_id(\"modal_customer_email\")\n"
     ]
    }
   ],
   "source": [
    "# test 2 with custtomer email is missing \n",
    "test_link_2 = \"https://s.salla.sa/customers/LR98Gn45mxgPMn5jQQmWwkpdzKNbQjJv\"\n",
    "driver.get(test_link_2)\n",
    "\n",
    "phone = driver.find_element_by_class_name(\"text-plain\")\n",
    "print(phone.text)\n",
    "\n",
    "email = driver.find_element_by_id(\"modal_customer_email\")\n",
    "value = email.get_attribute('value')\n",
    "if value == \"\":\n",
    "    print(\"Not Found\")\n"
   ]
  },
  {
   "cell_type": "code",
   "execution_count": 60,
   "metadata": {},
   "outputs": [
    {
     "data": {
      "text/html": [
       "<div>\n",
       "<style scoped>\n",
       "    .dataframe tbody tr th:only-of-type {\n",
       "        vertical-align: middle;\n",
       "    }\n",
       "\n",
       "    .dataframe tbody tr th {\n",
       "        vertical-align: top;\n",
       "    }\n",
       "\n",
       "    .dataframe thead th {\n",
       "        text-align: right;\n",
       "    }\n",
       "</style>\n",
       "<table border=\"1\" class=\"dataframe\">\n",
       "  <thead>\n",
       "    <tr style=\"text-align: right;\">\n",
       "      <th></th>\n",
       "      <th>URL</th>\n",
       "      <th>Name</th>\n",
       "      <th>Location</th>\n",
       "    </tr>\n",
       "  </thead>\n",
       "  <tbody>\n",
       "    <tr>\n",
       "      <th>5472</th>\n",
       "      <td>https://s.salla.sa/customers/zAB3exRyLdXv5Wp5K...</td>\n",
       "      <td>راكان ابراهيم</td>\n",
       "      <td>الرياض</td>\n",
       "    </tr>\n",
       "    <tr>\n",
       "      <th>5473</th>\n",
       "      <td>https://s.salla.sa/customers/A58jOxmqryYBVMJdm...</td>\n",
       "      <td>محمد السويلم</td>\n",
       "      <td>عرعر</td>\n",
       "    </tr>\n",
       "    <tr>\n",
       "      <th>5474</th>\n",
       "      <td>https://s.salla.sa/customers/gdpNzmxoKnvLW0lrq...</td>\n",
       "      <td>بدر الصبحي</td>\n",
       "      <td>NaN</td>\n",
       "    </tr>\n",
       "    <tr>\n",
       "      <th>5475</th>\n",
       "      <td>https://s.salla.sa/customers/kDXv9mr2bGzYaeyX7...</td>\n",
       "      <td>امجاد الحربي</td>\n",
       "      <td>المدينة المنورة</td>\n",
       "    </tr>\n",
       "    <tr>\n",
       "      <th>5476</th>\n",
       "      <td>https://s.salla.sa/customers/7mYBdgXA9xJwWZYml...</td>\n",
       "      <td>ديما ابراهيم</td>\n",
       "      <td>الرياض</td>\n",
       "    </tr>\n",
       "  </tbody>\n",
       "</table>\n",
       "</div>"
      ],
      "text/plain": [
       "                                                    URL           Name  \\\n",
       "5472  https://s.salla.sa/customers/zAB3exRyLdXv5Wp5K...  راكان ابراهيم   \n",
       "5473  https://s.salla.sa/customers/A58jOxmqryYBVMJdm...   محمد السويلم   \n",
       "5474  https://s.salla.sa/customers/gdpNzmxoKnvLW0lrq...     بدر الصبحي   \n",
       "5475  https://s.salla.sa/customers/kDXv9mr2bGzYaeyX7...   امجاد الحربي   \n",
       "5476  https://s.salla.sa/customers/7mYBdgXA9xJwWZYml...   ديما ابراهيم   \n",
       "\n",
       "             Location  \n",
       "5472           الرياض  \n",
       "5473             عرعر  \n",
       "5474              NaN  \n",
       "5475  المدينة المنورة  \n",
       "5476           الرياض  "
      ]
     },
     "execution_count": 60,
     "metadata": {},
     "output_type": "execute_result"
    }
   ],
   "source": [
    "# read excel with 11 K links \n",
    "data = pd.read_excel(\"CustomersProfileLink 11K.xlsx\")\n",
    "data_2 = data[5472:]\n",
    "data_2.head()"
   ]
  },
  {
   "cell_type": "code",
   "execution_count": 58,
   "metadata": {},
   "outputs": [
    {
     "data": {
      "text/plain": [
       "5472     https://s.salla.sa/customers/zAB3exRyLdXv5Wp5K...\n",
       "5473     https://s.salla.sa/customers/A58jOxmqryYBVMJdm...\n",
       "5474     https://s.salla.sa/customers/gdpNzmxoKnvLW0lrq...\n",
       "5475     https://s.salla.sa/customers/kDXv9mr2bGzYaeyX7...\n",
       "5476     https://s.salla.sa/customers/7mYBdgXA9xJwWZYml...\n",
       "                               ...                        \n",
       "10936    https://s.salla.sa/customers/3bnBZExoJwVNM5lYz...\n",
       "10937    https://s.salla.sa/customers/Kr96mwBy58xDMgxYE...\n",
       "10938    https://s.salla.sa/customers/zAB3exRyLdXv5WpG4...\n",
       "10939    https://s.salla.sa/customers/9nNYGbLkjzxmZawrL...\n",
       "10940    https://s.salla.sa/customers/LR98Gn45mxgPMnQvZ...\n",
       "Name: URL, Length: 5469, dtype: object"
      ]
     },
     "execution_count": 58,
     "metadata": {},
     "output_type": "execute_result"
    }
   ],
   "source": [
    "links = data['URL']\n",
    "#names = data['Name']\n",
    "links2= data_2['URL']\n",
    "links2\n"
   ]
  },
  {
   "cell_type": "code",
   "execution_count": 61,
   "metadata": {},
   "outputs": [
    {
     "name": "stderr",
     "output_type": "stream",
     "text": [
      "C:\\Users\\LoveCode\\AppData\\Local\\Temp/ipykernel_16108/2295297638.py:13: DeprecationWarning: find_element_by_* commands are deprecated. Please use find_element() instead\n",
      "  phone = driver.find_element_by_class_name(\"text-plain\")\n",
      "C:\\Users\\LoveCode\\AppData\\Local\\Temp/ipykernel_16108/2295297638.py:19: DeprecationWarning: find_element_by_* commands are deprecated. Please use find_element() instead\n",
      "  email = driver.find_element_by_id(\"modal_customer_email\")\n"
     ]
    },
    {
     "name": "stdout",
     "output_type": "stream",
     "text": [
      "+966555413052\n",
      "Not Found\n",
      "Loading .... 0.02 %\n",
      "+966555035558\n",
      "hfmf1985@gmail.com\n",
      "Loading .... 0.04 %\n",
      "+966550509711\n",
      "Razn-35@hotmail.com\n",
      "Loading .... 0.05 %\n",
      "+966593545710\n",
      "Not Found\n",
      "Loading .... 0.07 %\n",
      "+966554150456\n",
      "d.i.almousa@gmail.com\n",
      "Loading .... 0.09 %\n",
      "+966569822242\n",
      "fedatewoonk@gmail.com\n",
      "Loading .... 0.11 %\n",
      "+966550990520\n",
      "A55558123@gmail.com\n",
      "Loading .... 0.13 %\n",
      "+966505156420\n",
      "altamimi.ahmad_11@hotmail.com\n",
      "Loading .... 0.15 %\n",
      "+966559811102\n",
      "loolyfahad@hotmail.com\n",
      "Loading .... 0.16 %\n",
      "+966531218852\n",
      "alhazimi1980@gmail.com\n",
      "Loading .... 0.18 %\n",
      "+966530864614\n",
      "roaaali957@gmail.com\n",
      "Loading .... 0.2 %\n",
      "+966543303022\n",
      "nsryn5049@gmail.com\n",
      "Loading .... 0.22 %\n",
      "+966555336879\n",
      "Yasir.alakeel@gmail.com\n",
      "Loading .... 0.24 %\n",
      "+966504886121\n",
      "abonasser6121@hotmail.com\n",
      "Loading .... 0.26 %\n",
      "+966538724329\n",
      "foof29.d@gmail.com\n",
      "Loading .... 0.27 %\n",
      "+966504307703\n",
      "Salbasok@yahoo.com\n",
      "Loading .... 0.29 %\n",
      "+966548713223\n",
      "Lulwahalnuaim1@gmail.com\n",
      "Loading .... 0.31 %\n",
      "+966506138525\n",
      "rz223377@hotmail.com\n",
      "Loading .... 0.33 %\n",
      "+966556662048\n",
      "Not Found\n",
      "Loading .... 0.35 %\n",
      "+966595222132\n",
      "azizsm94@outlook.com\n",
      "Loading .... 0.37 %\n",
      "+966530659332\n",
      "rooni.1085@gmail.com\n",
      "Loading .... 0.38 %\n",
      "+966555406474\n",
      "Fawaz-1@hotmail.com\n",
      "Loading .... 0.4 %\n",
      "+966506784189\n",
      "wail.jaafari@gmail.com\n",
      "Loading .... 0.42 %\n",
      "+966565483348\n",
      "Princess_al_qunfuzi@hotmail.com\n",
      "Loading .... 0.44 %\n",
      "+966594257753\n",
      "inahdi2@gmail.com\n",
      "Loading .... 0.46 %\n",
      "+966583385596\n",
      "Not Found\n",
      "Loading .... 0.48 %\n",
      "+966546056112\n",
      "sevilay.m123@gmail.com\n",
      "Loading .... 0.49 %\n",
      "+966562266224\n",
      "Not Found\n",
      "Loading .... 0.51 %\n",
      "+966530009018\n",
      "Not Found\n",
      "Loading .... 0.53 %\n",
      "+966530005822\n",
      "Not Found\n",
      "Loading .... 0.55 %\n",
      "+966546997366\n",
      "drminting@gmail.com\n",
      "Loading .... 0.57 %\n",
      "+966506521281\n",
      "Not Found\n",
      "Loading .... 0.59 %\n",
      "+966583901967\n",
      "aaa_bomnaf@hotmail.com\n",
      "Loading .... 0.6 %\n",
      "+966557751919\n",
      "M1991m91@hotmail.com\n",
      "Loading .... 0.62 %\n",
      "+966558520327\n",
      "Manl.alomar@gmail.com\n",
      "Loading .... 0.64 %\n",
      "+966551995567\n",
      "Not Found\n",
      "Loading .... 0.66 %\n",
      "+966581819855\n",
      "hatm2mosa@gmail.com\n",
      "Loading .... 0.68 %\n",
      "+966540824066\n",
      "Not Found\n",
      "Loading .... 0.69 %\n",
      "+966505958885\n",
      "dind-1599@hotmail.com\n",
      "Loading .... 0.71 %\n"
     ]
    }
   ],
   "source": [
    "counter = 0\n",
    "phone_list = list()\n",
    "email_list = list()\n",
    "\n",
    "phone_list2 = list()\n",
    "email_list2 = list()\n",
    "\n",
    "for link in links2:\n",
    "    #print(link)\n",
    "    driver.get(link)\n",
    "\n",
    "    #phone info\n",
    "    phone = driver.find_element_by_class_name(\"text-plain\")\n",
    "    phone_info = phone.text\n",
    "    print(phone_info) \n",
    "    phone_list2.append(phone_info)\n",
    "\n",
    "    #email info \n",
    "    email = driver.find_element_by_id(\"modal_customer_email\")\n",
    "    value = email.get_attribute('value')\n",
    "    if value == \"\":\n",
    "        print(\"Not Found\")\n",
    "        email_list2.append(\"not found\")\n",
    "    else:\n",
    "        email_list2.append(value)\n",
    "        print(value)\n",
    "    counter+=1\n",
    "    print(f\"Loading .... {round(counter * 100 / len(data_2),2)} %\")\n",
    "    time.sleep(1)"
   ]
  },
  {
   "cell_type": "code",
   "execution_count": 51,
   "metadata": {},
   "outputs": [
    {
     "name": "stdout",
     "output_type": "stream",
     "text": [
      "5472\n",
      "5472\n"
     ]
    }
   ],
   "source": [
    "print(len(email_list))\n",
    "print(len(phone_list))"
   ]
  },
  {
   "cell_type": "code",
   "execution_count": 54,
   "metadata": {},
   "outputs": [
    {
     "name": "stdout",
     "output_type": "stream",
     "text": [
      "           Phone No                  Email\n",
      "5467  +966502023360              not found\n",
      "5468  +966556984638  malakynon@hotmail.com\n",
      "5469  +966559253842              not found\n",
      "5470  +966532821113              not found\n",
      "5471  +966554212437           aa@gmail.com\n"
     ]
    }
   ],
   "source": [
    "# append to the URL dataframe \n",
    "################################### Append append append \n",
    "\n",
    "df = pd.DataFrame(list(zip(phone_list, email_list)), columns=['Phone No', 'Email'])\n",
    "\n",
    "print(df.tail())\n"
   ]
  },
  {
   "cell_type": "code",
   "execution_count": 55,
   "metadata": {},
   "outputs": [],
   "source": [
    "df.to_excel(r\"C:\\Users\\LoveCode\\Desktop\\Email\\Excelscrape5472_part2.xlsx\", index=False)\n"
   ]
  },
  {
   "cell_type": "code",
   "execution_count": 59,
   "metadata": {},
   "outputs": [
    {
     "data": {
      "text/plain": [
       "5472"
      ]
     },
     "execution_count": 59,
     "metadata": {},
     "output_type": "execute_result"
    }
   ],
   "source": [
    "len(data) - 5469"
   ]
  },
  {
   "cell_type": "code",
   "execution_count": null,
   "metadata": {},
   "outputs": [],
   "source": []
  }
 ],
 "metadata": {
  "kernelspec": {
   "display_name": "Python 3 (ipykernel)",
   "language": "python",
   "name": "python3"
  },
  "language_info": {
   "codemirror_mode": {
    "name": "ipython",
    "version": 3
   },
   "file_extension": ".py",
   "mimetype": "text/x-python",
   "name": "python",
   "nbconvert_exporter": "python",
   "pygments_lexer": "ipython3",
   "version": "3.12.0"
  }
 },
 "nbformat": 4,
 "nbformat_minor": 4
}
